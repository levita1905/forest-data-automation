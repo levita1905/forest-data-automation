{
  "nbformat": 4,
  "nbformat_minor": 0,
  "metadata": {
    "colab": {
      "provenance": [],
      "cell_execution_strategy": "setup",
      "include_colab_link": true
    },
    "kernelspec": {
      "name": "python3",
      "display_name": "Python 3"
    },
    "language_info": {
      "name": "python"
    }
  },
  "cells": [
    {
      "cell_type": "markdown",
      "metadata": {
        "id": "view-in-github",
        "colab_type": "text"
      },
      "source": [
        "<a href=\"https://colab.research.google.com/github/levita1905/forest-data-automation/blob/main/Dien_TKLOKH_theo_toa_do.ipynb\" target=\"_parent\"><img src=\"https://colab.research.google.com/assets/colab-badge.svg\" alt=\"Open In Colab\"/></a>"
      ]
    },
    {
      "cell_type": "markdown",
      "source": [],
      "metadata": {
        "id": "7PKT0YMYS_cY"
      }
    },
    {
      "cell_type": "code",
      "source": [
        "\n",
        "# 📌 1. Kết nối Google Sheets và Xác thực\n",
        "from google.colab import auth\n",
        "import gspread\n",
        "from google.auth import default\n",
        "import pandas as pd\n",
        "import geopandas as gpd\n",
        "from shapely.geometry import Point\n",
        "from shapely.wkt import loads\n",
        "\n",
        "# Xác thực Google Drive\n",
        "auth.authenticate_user()\n",
        "creds, _ = default()\n",
        "gc = gspread.authorize(creds)\n",
        "\n",
        "print(\"✅ Kết nối thành công với Google Sheets!\")\n",
        "\n",
        "# 📌 2. Định nghĩa Google Sheets ID & Tên Sheet\n",
        "SHEET_ID = \"1sDEuegg7ThUirb_ZnFhfHRuUs9XAO_Xl9O7v8LWRLHo\"  # 🔹 Thay thế bằng ID thực tế của bạn\n",
        "SHEET_NAME_VUNG = \"VungDaGiac\"\n",
        "SHEET_NAME_TOADO = \"ToaDo\"\n",
        "SHEET_NAME_KETQUA = \"KetQuaTraCuu\"\n",
        "\n",
        "# 📌 3. Đọc dữ liệu vùng đa giác từ Google Sheets\n",
        "print(\"📥 Đang đọc dữ liệu vùng đa giác...\")\n",
        "\n",
        "sh_vung = gc.open_by_key(SHEET_ID).worksheet(SHEET_NAME_VUNG)\n",
        "data_vung = sh_vung.get_all_values()\n",
        "\n",
        "if len(data_vung) < 2:\n",
        "    print(\"⚠️ Lỗi: Không có dữ liệu vùng đa giác!\")\n",
        "else:\n",
        "    df_vung = pd.DataFrame(data_vung[1:], columns=data_vung[0])\n",
        "\n",
        "    # Kiểm tra nếu cột WKT bị lỗi hoặc trống\n",
        "    if \"wkt_geom\" not in df_vung.columns:\n",
        "        print(\"⚠️ Lỗi: Cột 'wkt_geom' không tồn tại trong dữ liệu!\")\n",
        "    else:\n",
        "        # Chuyển WKT thành Polygon\n",
        "        df_vung[\"geometry\"] = df_vung[\"wkt_geom\"].apply(lambda wkt: loads(wkt) if wkt else None)\n",
        "\n",
        "        # Chuyển thành GeoDataFrame\n",
        "        gdf_vung = gpd.GeoDataFrame(df_vung, geometry=\"geometry\", crs=\"EPSG:4326\")\n",
        "        print(\"✅ Chuyển đổi WKT thành Polygon thành công!\")\n",
        "\n",
        "# 📌 4. Đọc dữ liệu tọa độ cần kiểm tra\n",
        "print(\"📥 Đang đọc dữ liệu tọa độ...\")\n",
        "\n",
        "sh_toado = gc.open_by_key(SHEET_ID).worksheet(SHEET_NAME_TOADO)\n",
        "data_toado = sh_toado.get_all_values()\n",
        "\n",
        "if len(data_toado) < 2:\n",
        "    print(\"⚠️ Lỗi: Không có dữ liệu tọa độ!\")\n",
        "else:\n",
        "    df_toado = pd.DataFrame(data_toado[1:], columns=data_toado[0])\n",
        "\n",
        "    # Chuyển đổi X, Y sang số thực\n",
        "    df_toado[\"X\"] = pd.to_numeric(df_toado[\"X\"], errors=\"coerce\")\n",
        "    df_toado[\"Y\"] = pd.to_numeric(df_toado[\"Y\"], errors=\"coerce\")\n",
        "\n",
        "    # Xóa các dòng có giá trị NaN trong X, Y\n",
        "    df_toado = df_toado.dropna(subset=[\"X\", \"Y\"])\n",
        "\n",
        "    # Chuyển tọa độ thành GeoDataFrame\n",
        "    df_toado[\"geometry\"] = df_toado.apply(lambda row: Point(row[\"X\"], row[\"Y\"]), axis=1)\n",
        "    gdf_toado = gpd.GeoDataFrame(df_toado, geometry=\"geometry\", crs=\"EPSG:4326\")\n",
        "\n",
        "    print(f\"✅ Đọc {len(df_toado)} tọa độ thành công!\")\n",
        "\n",
        "# 📌 5. Kiểm tra tọa độ thuộc vùng nào\n",
        "print(\"📊 Đang kiểm tra tọa độ với vùng đa giác...\")\n",
        "\n",
        "if \"geometry\" in gdf_vung and len(gdf_vung) > 0 and len(gdf_toado) > 0:\n",
        "    # Dùng sjoin và giữ lại tất cả các điểm, kể cả khi không nằm trong đa giác nào\n",
        "    joined = gpd.sjoin(gdf_toado, gdf_vung, how=\"left\", predicate=\"within\")\n",
        "\n",
        "    # Nếu cột từ bảng đa giác không có (vì điểm không khớp), điền giá trị mặc định là \"\"\n",
        "    for col in [\"fid\", \"ID_MOI\", \"TK\", \"KH\", \"Lo\", \"NGUOIKY\"]:\n",
        "        if col not in joined.columns:\n",
        "            joined[col] = \"\"\n",
        "\n",
        "    # Tuỳ chọn: Thêm thông báo nếu điểm không nằm trong vùng nào\n",
        "    joined[\"THONG_BAO\"] = joined[\"fid\"].apply(lambda x: \"\" if pd.notna(x) else \"Không thuộc vùng nào\")\n",
        "\n",
        "    # Chọn các cột cần thiết\n",
        "    joined = joined[[\"X\", \"Y\", \"fid\", \"ID_MOI\", \"TK\", \"KH\", \"Lo\", \"NGUOIKY\", \"THONG_BAO\"]]\n",
        "\n",
        "    print(f\"✅ Hoàn tất kiểm tra {len(joined)} tọa độ!\")\n",
        "\n",
        "    # 📌 6. Ghi kết quả vào Google Sheets\n",
        "    print(\"📤 Đang cập nhật kết quả lên Google Sheets...\")\n",
        "\n",
        "    worksheet_ketqua = gc.open_by_key(SHEET_ID).worksheet(SHEET_NAME_KETQUA)\n",
        "    values = joined.fillna(\"\").values.tolist()\n",
        "    values.insert(0, joined.columns.tolist())  # Thêm tiêu đề tự động\n",
        "\n",
        "    worksheet_ketqua.update(\"A1\", values)\n",
        "    print(\"✅ Xuất kết quả thành công vào Google Sheets!\")\n",
        "\n",
        "else:\n",
        "    print(\"⚠️ Lỗi: Không thể kiểm tra vì dữ liệu trống hoặc sai định dạng!\")\n"
      ],
      "metadata": {
        "colab": {
          "base_uri": "https://localhost:8080/"
        },
        "id": "6kqkwIe6WLzd",
        "outputId": "c56b4221-3bab-424e-e0cd-7353fece9d03"
      },
      "execution_count": 3,
      "outputs": [
        {
          "output_type": "stream",
          "name": "stdout",
          "text": [
            "✅ Kết nối thành công với Google Sheets!\n",
            "📥 Đang đọc dữ liệu vùng đa giác...\n",
            "✅ Chuyển đổi WKT thành Polygon thành công!\n",
            "📥 Đang đọc dữ liệu tọa độ...\n",
            "✅ Đọc 32 tọa độ thành công!\n",
            "📊 Đang kiểm tra tọa độ với vùng đa giác...\n",
            "✅ Hoàn tất kiểm tra 32 tọa độ!\n",
            "📤 Đang cập nhật kết quả lên Google Sheets...\n"
          ]
        },
        {
          "output_type": "stream",
          "name": "stderr",
          "text": [
            "<ipython-input-3-bd6879570b36>:96: DeprecationWarning: The order of arguments in worksheet.update() has changed. Please pass values first and range_name secondor used named arguments (range_name=, values=)\n",
            "  worksheet_ketqua.update(\"A1\", values)\n"
          ]
        },
        {
          "output_type": "stream",
          "name": "stdout",
          "text": [
            "✅ Xuất kết quả thành công vào Google Sheets!\n"
          ]
        }
      ]
    },
    {
      "cell_type": "code",
      "source": [],
      "metadata": {
        "id": "ksX12weOgcaH"
      },
      "execution_count": null,
      "outputs": []
    },
    {
      "cell_type": "code",
      "source": [],
      "metadata": {
        "colab": {
          "base_uri": "https://localhost:8080/"
        },
        "id": "wu2f0mbmgYGZ",
        "outputId": "7d5ea2e5-23f0-46bd-a76e-417d16b6e1ef"
      },
      "execution_count": null,
      "outputs": [
        {
          "output_type": "execute_result",
          "data": {
            "text/plain": [
              "0"
            ]
          },
          "metadata": {},
          "execution_count": 35
        }
      ]
    }
  ]
}